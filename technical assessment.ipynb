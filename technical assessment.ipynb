{
 "cells": [
  {
   "cell_type": "code",
   "execution_count": null,
   "id": "eb339a95-509e-4ceb-9ea5-58878e3dc0b4",
   "metadata": {},
   "outputs": [],
   "source": [
    "import pandas as pd\n",
    "from datetime import datetime\n",
    "from sqlalchemy import create_engine\n",
    "\n",
    "\n",
    "\n",
    "file_path = 'path_to_data_file.csv'\n",
    "df = pd.read_csv(file_path, delimiter='|')\n",
    "\n",
    "\n",
    "\n",
    "df['Open_Date'] = pd.to_datetime(df['Open_Date'], format='%Y%m%d', errors='coerce')\n",
    "df['Last_Consulted_Date'] = pd.to_datetime(df['Last_Consulted_Date'], format='%Y%m%d', errors='coerce')\n",
    "\n",
    "\n",
    "df['DOB'] = pd.to_datetime(df['DOB'], format='%d%m%Y', errors='coerce')\n",
    "df['Age'] = df['DOB'].apply(lambda x: (datetime.now() - x).days // 365 if pd.notnull(x) else None)\n",
    "\n",
    "\n",
    "df['Days_Since_Last_Consulted'] = (datetime.now() - df['Last_Consulted_Date']).dt.days\n",
    "\n",
    "\n",
    "df['Days_Consulted_Flag'] = df['Days_Since_Last_Consulted'].apply(lambda x: 'Yes' if x > 30 else 'No')\n",
    "\n",
    "\n",
    "df = df.dropna(subset=['Customer_ID'])\n",
    "\n",
    "\n",
    "df['Customer_Name'] = df['Customer_Name'].astype(str).str[:255]\n",
    "df['Vaccination_Type'] = df['Vaccination_Type'].astype(str).str[:5]\n",
    "\n",
    "\n",
    "df.to_sql('staging_customers', con=engine, if_exists='replace', index=False)\n",
    "\n",
    "\n",
    "countries = df['Country'].unique()\n",
    "\n",
    "for country in countries:\n",
    "    country_df = df[df['Country'] == country]\n",
    "    country_table = f\"Customers_{country}\"\n",
    "    \n",
    "  \n",
    "    country_df.to_sql(country_table, con=engine, if_exists='replace', index=False)\n",
    "\n",
    "print(\"Data successfully loaded into country-specific tables!\")"
   ]
  }
 ],
 "metadata": {
  "kernelspec": {
   "display_name": "Python 3 (ipykernel)",
   "language": "python",
   "name": "python3"
  },
  "language_info": {
   "codemirror_mode": {
    "name": "ipython",
    "version": 3
   },
   "file_extension": ".py",
   "mimetype": "text/x-python",
   "name": "python",
   "nbconvert_exporter": "python",
   "pygments_lexer": "ipython3",
   "version": "3.11.7"
  }
 },
 "nbformat": 4,
 "nbformat_minor": 5
}
